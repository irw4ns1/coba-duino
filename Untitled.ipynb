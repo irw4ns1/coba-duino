{
 "cells": [!python myscript.py],
 "metadata": {},
 "nbformat": 4,
 "nbformat_minor": 5
}
